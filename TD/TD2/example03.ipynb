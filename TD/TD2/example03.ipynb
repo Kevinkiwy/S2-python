{
 "cells": [
  {
   "cell_type": "code",
   "execution_count": 3,
   "metadata": {},
   "outputs": [],
   "source": [
    "import tkinter as tk \n",
    "CANVAS_WIDTH, CANVAS_HEIGHT = 600, 400\n",
    "\n",
    "if __name__ == '__main__':\n",
    "    root = tk.Tk()\n",
    "\n",
    "    canvas = tk.Canvas(root, width = CANVAS_WIDTH, height = CANVAS_HEIGHT)\n",
    "\n",
    "    # Début de votre code\n",
    "    x0 = 100\n",
    "    x1 = CANVAS_WIDTH - 100\n",
    "    y = CANVAS_HEIGHT / 2\n",
    "    canvas.create_line(CANVAS_WIDTH/2, CANVAS_HEIGHT, CANVAS_WIDTH/2, CANVAS_HEIGHT-CANVAS_HEIGHT)\n",
    "    canvas.create_oval(x0 - 50, y + 50, x0 + 50, y - 50)\n",
    "    canvas.create_oval(x1 - 50, y + 50, x1 + 50, y - 50)\n",
    "    canvas.create_oval((x0 + x1) / 2 - 50, y + 50, (x0 + x1) / 2 + 50, y - 50)\n",
    "    \n",
    "    # Fin de votre code\n",
    "    canvas.pack()\n",
    "    root.mainloop()"
   ]
  },
  {
   "cell_type": "code",
   "execution_count": null,
   "metadata": {},
   "outputs": [],
   "source": [
    "import tkinter as tk \n",
    "CANVAS_WIDTH, CANVAS_HEIGHT = 600, 600\n",
    "\n",
    "def dessin_carre():\n",
    "    canvas.create_rectangle(100, 100, 200, 200)\n",
    "    \n",
    "    \n",
    "if __name__ == '__main__':\n",
    "    root = tk.Tk()\n",
    "    canvas = tk.Canvas(root, width = CANVAS_WIDTH, height = CANVAS_HEIGHT)\n",
    "    root.title(\"Mon dessin\")\n",
    "    \n",
    "    cercle = tk.Button(root, text=\"Cercle\", width= 10, height= 2)\n",
    "    carre = tk.Button(root, text=\"Carre\", width= 10, height= 2,command= dessin_carre)\n",
    "    \n",
    "    canvas.grid()\n",
    "    cercle.grid(column=0, row =1)\n",
    "    carre.grid(column=0, row=2)\n",
    "    root.mainloop()"
   ]
  },
  {
   "cell_type": "code",
   "execution_count": 13,
   "metadata": {},
   "outputs": [],
   "source": [
    "import tkinter as tk \n",
    "\n",
    "CANVAS_WIDTH, CANVAS_HEIGHT = 600, 600\n",
    "\n",
    "# Création de la fenêtre principale\n",
    "root = tk.Tk()\n",
    "root.title(\"Dessin de Carré\")\n",
    "\n",
    "# Création du canevas\n",
    "canvas = tk.Canvas(root, width=CANVAS_WIDTH, height=CANVAS_HEIGHT, bg=\"white\")\n",
    "canvas.pack()\n",
    "\n",
    "# Fonction pour dessiner un carré\n",
    "def dessin_carre():\n",
    "    canvas.create_rectangle(100, 100, 200, 200, fill=\"blue\", outline=\"black\")\n",
    "\n",
    "# Création du bouton\n",
    "carre = tk.Button(root, text=\"Dessiner un carré\", width=20, height=2, command=dessin_carre)\n",
    "carre.pack(pady=10)  # Ajoute un espace vertical\n",
    "\n",
    "# Lancement de l'interface\n",
    "root.mainloop()"
   ]
  }
 ],
 "metadata": {
  "kernelspec": {
   "display_name": "Python 3",
   "language": "python",
   "name": "python3"
  },
  "language_info": {
   "codemirror_mode": {
    "name": "ipython",
    "version": 3
   },
   "file_extension": ".py",
   "mimetype": "text/x-python",
   "name": "python",
   "nbconvert_exporter": "python",
   "pygments_lexer": "ipython3",
   "version": "3.12.6"
  }
 },
 "nbformat": 4,
 "nbformat_minor": 2
}
